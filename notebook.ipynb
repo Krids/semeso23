{
 "cells": [
  {
   "cell_type": "markdown",
   "metadata": {},
   "source": [
    "# SEMESO 2023 - Mini Curso - Data Science no Mundo das Criptomoedas: da Blockchain ao MLOps \n",
    "\n",
    "Felipe Lana Machado"
   ]
  },
  {
   "cell_type": "markdown",
   "metadata": {},
   "source": [
    "## Etapas:\n",
    "\n",
    "1. Obtenção dos dados da moeda Illuvium (ILV) na rede ethereum.\n",
    "    - Utilização da lib web3.py.\n",
    "    - Utilização da API Alchemy. \n",
    "2. Pre-processamento dos dados obtidos.\n",
    "3. Desenvolvimento de features dentro dos dados obtidos.\n",
    "4. CI/CD com github actions.\n",
    "5. Princípios do MLOps."
   ]
  },
  {
   "cell_type": "code",
   "execution_count": 1,
   "metadata": {},
   "outputs": [
    {
     "name": "stderr",
     "output_type": "stream",
     "text": [
      "/Users/krids/Documents/SEMESO23/Project/.venv/lib/python3.9/site-packages/urllib3/__init__.py:34: NotOpenSSLWarning: urllib3 v2.0 only supports OpenSSL 1.1.1+, currently the 'ssl' module is compiled with 'LibreSSL 2.8.3'. See: https://github.com/urllib3/urllib3/issues/3020\n",
      "  warnings.warn(\n"
     ]
    }
   ],
   "source": [
    "import warnings\n",
    "import json\n",
    "import os\n",
    "from typing import List, Dict\n",
    "from urllib3.exceptions import NotOpenSSLWarning\n",
    "warnings.simplefilter('ignore', NotOpenSSLWarning)\n",
    "from src.blockchain.get_ethereum_data import Blockchain\n",
    "from src.utils.project_paths import DATA_RAW"
   ]
  },
  {
   "cell_type": "markdown",
   "metadata": {},
   "source": [
    "## Obtenção dos dados"
   ]
  },
  {
   "cell_type": "code",
   "execution_count": 1,
   "metadata": {},
   "outputs": [
    {
     "name": "stderr",
     "output_type": "stream",
     "text": [
      "/Users/krids/Documents/SEMESO23/Project/.venv/lib/python3.9/site-packages/urllib3/__init__.py:34: NotOpenSSLWarning: urllib3 v2.0 only supports OpenSSL 1.1.1+, currently the 'ssl' module is compiled with 'LibreSSL 2.8.3'. See: https://github.com/urllib3/urllib3/issues/3020\n",
      "  warnings.warn(\n",
      "100%|██████████| 613/613 [09:38<00:00,  1.06it/s]\n"
     ]
    }
   ],
   "source": [
    "blockchain = Blockchain(abi='illuvium')\n",
    "illuvium_started = 12084123\n",
    "data = blockchain._get_events(start_block=illuvium_started)\n",
    "\n",
    "list_of_files = os.listdir(DATA_RAW)\n",
    "size = len([file for file in list_of_files if f'transfer_data_' in file])\n",
    "with open(os.path.join(DATA_RAW, f'transfer_data_{size}.json'), 'w') as json_file:\n",
    "    json.dump(data, json_file, indent=4)"
   ]
  },
  {
   "cell_type": "markdown",
   "metadata": {},
   "source": [
    "## Pre-Processamento"
   ]
  },
  {
   "cell_type": "code",
   "execution_count": 2,
   "metadata": {},
   "outputs": [],
   "source": [
    "def remove_duplicates_by_field(field: str, data: List[Dict]) -> List[Dict]:\n",
    "    \n",
    "    seen_ids = set()\n",
    "    data = [seen_ids.add(x['txhash']) or x for x in data if x['txhash'] not in seen_ids]\n",
    "    return data"
   ]
  },
  {
   "cell_type": "code",
   "execution_count": 4,
   "metadata": {},
   "outputs": [
    {
     "data": {
      "text/plain": [
       "502130"
      ]
     },
     "execution_count": 4,
     "metadata": {},
     "output_type": "execute_result"
    }
   ],
   "source": [
    "len(data)"
   ]
  },
  {
   "cell_type": "code",
   "execution_count": 9,
   "metadata": {},
   "outputs": [],
   "source": [
    "x.drop_duplicates('txhash', inplace=True)"
   ]
  },
  {
   "cell_type": "code",
   "execution_count": 7,
   "metadata": {},
   "outputs": [],
   "source": [
    "x['value_ilv'] = x.apply(lambda x: blockchain.w3.from_wei(x['value'],'ether'), axis=1)"
   ]
  },
  {
   "cell_type": "code",
   "execution_count": 11,
   "metadata": {},
   "outputs": [],
   "source": [
    "x.reset_index(inplace=True, drop=True)"
   ]
  },
  {
   "cell_type": "code",
   "execution_count": 14,
   "metadata": {},
   "outputs": [],
   "source": [
    "x.drop(columns=['index'], inplace=True)"
   ]
  },
  {
   "cell_type": "code",
   "execution_count": 18,
   "metadata": {},
   "outputs": [
    {
     "data": {
      "text/html": [
       "<div>\n",
       "<style scoped>\n",
       "    .dataframe tbody tr th:only-of-type {\n",
       "        vertical-align: middle;\n",
       "    }\n",
       "\n",
       "    .dataframe tbody tr th {\n",
       "        vertical-align: top;\n",
       "    }\n",
       "\n",
       "    .dataframe thead th {\n",
       "        text-align: right;\n",
       "    }\n",
       "</style>\n",
       "<table border=\"1\" class=\"dataframe\">\n",
       "  <thead>\n",
       "    <tr style=\"text-align: right;\">\n",
       "      <th></th>\n",
       "      <th>txhash</th>\n",
       "      <th>blockNumber</th>\n",
       "      <th>from</th>\n",
       "      <th>to</th>\n",
       "      <th>value</th>\n",
       "      <th>value_ilv</th>\n",
       "    </tr>\n",
       "  </thead>\n",
       "  <tbody>\n",
       "    <tr>\n",
       "      <th>0</th>\n",
       "      <td>0xa5b7f915aa6cd5789a79d2905540a08490bc215ac931...</td>\n",
       "      <td>12084124</td>\n",
       "      <td>0x0000000000000000000000000000000000000000</td>\n",
       "      <td>0x0691f5804d4227925F19b031821b530b48FFf38f</td>\n",
       "      <td>7000000000000000000000000</td>\n",
       "      <td>7000000</td>\n",
       "    </tr>\n",
       "    <tr>\n",
       "      <th>230264</th>\n",
       "      <td>0x45032394ca2f137288fed885a35b960af32df046eaa0...</td>\n",
       "      <td>15055460</td>\n",
       "      <td>0x0000000000000000000000000000000000000000</td>\n",
       "      <td>0x60CEEf10f9dd4a5d7874f22F461048eA96f475f6</td>\n",
       "      <td>32455825581532263104</td>\n",
       "      <td>32.455825581532263104</td>\n",
       "    </tr>\n",
       "    <tr>\n",
       "      <th>230410</th>\n",
       "      <td>0x84c6f769b93fb40ed7320459586b724052b71374e8de...</td>\n",
       "      <td>15056591</td>\n",
       "      <td>0x0000000000000000000000000000000000000000</td>\n",
       "      <td>0x7834626d2AA32e1Ca4EAA8cd481fd0BB3Eba064C</td>\n",
       "      <td>3907588938675326861</td>\n",
       "      <td>3.907588938675326861</td>\n",
       "    </tr>\n",
       "    <tr>\n",
       "      <th>230460</th>\n",
       "      <td>0xc32673df2dcf7e3f90f5a2414c72eb8d6c6936faba2b...</td>\n",
       "      <td>15056855</td>\n",
       "      <td>0x0000000000000000000000000000000000000000</td>\n",
       "      <td>0x0597433eD2970fef8976E106e77dB2E996F5A353</td>\n",
       "      <td>13689881826343393139</td>\n",
       "      <td>13.689881826343393139</td>\n",
       "    </tr>\n",
       "    <tr>\n",
       "      <th>230532</th>\n",
       "      <td>0x5c86d555d60190d38f111cddbdc051fd71eca4e5eb70...</td>\n",
       "      <td>15057420</td>\n",
       "      <td>0x0000000000000000000000000000000000000000</td>\n",
       "      <td>0x532D562bd356E8Bf71099eE074AF2737b0f452b0</td>\n",
       "      <td>61282521157777911981</td>\n",
       "      <td>61.282521157777911981</td>\n",
       "    </tr>\n",
       "    <tr>\n",
       "      <th>...</th>\n",
       "      <td>...</td>\n",
       "      <td>...</td>\n",
       "      <td>...</td>\n",
       "      <td>...</td>\n",
       "      <td>...</td>\n",
       "      <td>...</td>\n",
       "    </tr>\n",
       "    <tr>\n",
       "      <th>502259</th>\n",
       "      <td>0xf5ea47c9b15d272b75a52d8a538ea3cd0d60c9c2c373...</td>\n",
       "      <td>18212537</td>\n",
       "      <td>0x0000000000000000000000000000000000000000</td>\n",
       "      <td>0x1198C5E8cfF7c84a0BF77f988d1a71Ec1d2E5D24</td>\n",
       "      <td>3245881090118532864</td>\n",
       "      <td>3.245881090118532864</td>\n",
       "    </tr>\n",
       "    <tr>\n",
       "      <th>502260</th>\n",
       "      <td>0xac120eade57bba001d61ef32697906d49e1d883e8f08...</td>\n",
       "      <td>18212551</td>\n",
       "      <td>0x0000000000000000000000000000000000000000</td>\n",
       "      <td>0x1198C5E8cfF7c84a0BF77f988d1a71Ec1d2E5D24</td>\n",
       "      <td>2041221675056725572</td>\n",
       "      <td>2.041221675056725572</td>\n",
       "    </tr>\n",
       "    <tr>\n",
       "      <th>502270</th>\n",
       "      <td>0x2eb998f2078613a6b1497ef65f9647913b73c37700a9...</td>\n",
       "      <td>18212763</td>\n",
       "      <td>0x0000000000000000000000000000000000000000</td>\n",
       "      <td>0xAad1fDA8Ab6e75EaD08158E42D6883082E94bf45</td>\n",
       "      <td>2018544716524560075</td>\n",
       "      <td>2.018544716524560075</td>\n",
       "    </tr>\n",
       "    <tr>\n",
       "      <th>502273</th>\n",
       "      <td>0xee9d450deb03240502ba5b8efbe86950b8e7b3df1d55...</td>\n",
       "      <td>18212799</td>\n",
       "      <td>0x0000000000000000000000000000000000000000</td>\n",
       "      <td>0x204195e92904e02cB87409B2b0e1B7E6dDCfF07F</td>\n",
       "      <td>3682140676021400556</td>\n",
       "      <td>3.682140676021400556</td>\n",
       "    </tr>\n",
       "    <tr>\n",
       "      <th>502297</th>\n",
       "      <td>0xdb11bb3f3b7f5f34034909eedb0620fe9cc109fb9543...</td>\n",
       "      <td>18213481</td>\n",
       "      <td>0x0000000000000000000000000000000000000000</td>\n",
       "      <td>0x1F2Da12bEdE761b2Aa73cb1f3C2bc2fB70f6b88A</td>\n",
       "      <td>1305752907330684344</td>\n",
       "      <td>1.305752907330684344</td>\n",
       "    </tr>\n",
       "  </tbody>\n",
       "</table>\n",
       "<p>17169 rows × 6 columns</p>\n",
       "</div>"
      ],
      "text/plain": [
       "                                                   txhash  blockNumber  \\\n",
       "0       0xa5b7f915aa6cd5789a79d2905540a08490bc215ac931...     12084124   \n",
       "230264  0x45032394ca2f137288fed885a35b960af32df046eaa0...     15055460   \n",
       "230410  0x84c6f769b93fb40ed7320459586b724052b71374e8de...     15056591   \n",
       "230460  0xc32673df2dcf7e3f90f5a2414c72eb8d6c6936faba2b...     15056855   \n",
       "230532  0x5c86d555d60190d38f111cddbdc051fd71eca4e5eb70...     15057420   \n",
       "...                                                   ...          ...   \n",
       "502259  0xf5ea47c9b15d272b75a52d8a538ea3cd0d60c9c2c373...     18212537   \n",
       "502260  0xac120eade57bba001d61ef32697906d49e1d883e8f08...     18212551   \n",
       "502270  0x2eb998f2078613a6b1497ef65f9647913b73c37700a9...     18212763   \n",
       "502273  0xee9d450deb03240502ba5b8efbe86950b8e7b3df1d55...     18212799   \n",
       "502297  0xdb11bb3f3b7f5f34034909eedb0620fe9cc109fb9543...     18213481   \n",
       "\n",
       "                                              from  \\\n",
       "0       0x0000000000000000000000000000000000000000   \n",
       "230264  0x0000000000000000000000000000000000000000   \n",
       "230410  0x0000000000000000000000000000000000000000   \n",
       "230460  0x0000000000000000000000000000000000000000   \n",
       "230532  0x0000000000000000000000000000000000000000   \n",
       "...                                            ...   \n",
       "502259  0x0000000000000000000000000000000000000000   \n",
       "502260  0x0000000000000000000000000000000000000000   \n",
       "502270  0x0000000000000000000000000000000000000000   \n",
       "502273  0x0000000000000000000000000000000000000000   \n",
       "502297  0x0000000000000000000000000000000000000000   \n",
       "\n",
       "                                                to                      value  \\\n",
       "0       0x0691f5804d4227925F19b031821b530b48FFf38f  7000000000000000000000000   \n",
       "230264  0x60CEEf10f9dd4a5d7874f22F461048eA96f475f6       32455825581532263104   \n",
       "230410  0x7834626d2AA32e1Ca4EAA8cd481fd0BB3Eba064C        3907588938675326861   \n",
       "230460  0x0597433eD2970fef8976E106e77dB2E996F5A353       13689881826343393139   \n",
       "230532  0x532D562bd356E8Bf71099eE074AF2737b0f452b0       61282521157777911981   \n",
       "...                                            ...                        ...   \n",
       "502259  0x1198C5E8cfF7c84a0BF77f988d1a71Ec1d2E5D24        3245881090118532864   \n",
       "502260  0x1198C5E8cfF7c84a0BF77f988d1a71Ec1d2E5D24        2041221675056725572   \n",
       "502270  0xAad1fDA8Ab6e75EaD08158E42D6883082E94bf45        2018544716524560075   \n",
       "502273  0x204195e92904e02cB87409B2b0e1B7E6dDCfF07F        3682140676021400556   \n",
       "502297  0x1F2Da12bEdE761b2Aa73cb1f3C2bc2fB70f6b88A        1305752907330684344   \n",
       "\n",
       "                    value_ilv  \n",
       "0                     7000000  \n",
       "230264  32.455825581532263104  \n",
       "230410   3.907588938675326861  \n",
       "230460  13.689881826343393139  \n",
       "230532  61.282521157777911981  \n",
       "...                       ...  \n",
       "502259   3.245881090118532864  \n",
       "502260   2.041221675056725572  \n",
       "502270   2.018544716524560075  \n",
       "502273   3.682140676021400556  \n",
       "502297   1.305752907330684344  \n",
       "\n",
       "[17169 rows x 6 columns]"
      ]
     },
     "execution_count": 18,
     "metadata": {},
     "output_type": "execute_result"
    }
   ],
   "source": [
    "x[x['from'] == '0x0000000000000000000000000000000000000000']"
   ]
  },
  {
   "cell_type": "markdown",
   "metadata": {},
   "source": [
    "## Desenvolvimento de Features"
   ]
  },
  {
   "cell_type": "markdown",
   "metadata": {},
   "source": [
    "## CI / CD - Github Actions"
   ]
  },
  {
   "cell_type": "markdown",
   "metadata": {},
   "source": [
    "## MLOPs"
   ]
  }
 ],
 "metadata": {
  "kernelspec": {
   "display_name": ".venv",
   "language": "python",
   "name": "python3"
  },
  "language_info": {
   "codemirror_mode": {
    "name": "ipython",
    "version": 3
   },
   "file_extension": ".py",
   "mimetype": "text/x-python",
   "name": "python",
   "nbconvert_exporter": "python",
   "pygments_lexer": "ipython3",
   "version": "3.9.6"
  },
  "orig_nbformat": 4
 },
 "nbformat": 4,
 "nbformat_minor": 2
}
