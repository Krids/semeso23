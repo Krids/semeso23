{
 "cells": [
  {
   "cell_type": "markdown",
   "metadata": {},
   "source": [
    "# SEMESO 2023 - Mini Curso - Data Science no Mundo das Criptomoedas: da Blockchain ao MLOps \n",
    "\n",
    "Felipe Lana Machado"
   ]
  },
  {
   "cell_type": "markdown",
   "metadata": {},
   "source": [
    "## Etapas:\n",
    "\n",
    "1. Obtenção dos dados da moeda Illuvium (ILV) na rede ethereum.\n",
    "    - Utilização da lib web3.py.\n",
    "    - Utilização da API Alchemy. \n",
    "2. Pre-processamento dos dados obtidos.\n",
    "3. Desenvolvimento de features dentro dos dados obtidos.\n",
    "4. CI/CD com github actions.\n",
    "5. Princípios do MLOps."
   ]
  },
  {
   "cell_type": "code",
   "execution_count": 18,
   "metadata": {},
   "outputs": [],
   "source": [
    "import warnings\n",
    "import json\n",
    "import os\n",
    "from typing import List, Dict\n",
    "from urllib3.exceptions import NotOpenSSLWarning\n",
    "warnings.simplefilter('ignore', NotOpenSSLWarning)\n",
    "from src.blockchain.get_ethereum_data import Blockchain\n",
    "from src.preprocessing.illuvium_transactions_processing import IlluviumTransactionsProcessing\n",
    "from src.utils.project_paths import DATA_RAW, DATA_PROCESSED"
   ]
  },
  {
   "cell_type": "markdown",
   "metadata": {},
   "source": [
    "## Obtenção dos dados"
   ]
  },
  {
   "cell_type": "code",
   "execution_count": 19,
   "metadata": {},
   "outputs": [],
   "source": [
    "blockchain = Blockchain(abi='illuvium')"
   ]
  },
  {
   "cell_type": "code",
   "execution_count": 2,
   "metadata": {},
   "outputs": [
    {
     "name": "stderr",
     "output_type": "stream",
     "text": [
      "100%|██████████| 614/614 [11:30<00:00,  1.12s/it]\n"
     ]
    }
   ],
   "source": [
    "illuvium_started = 12084123\n",
    "data = blockchain._get_events(start_block=illuvium_started)\n",
    "\n",
    "list_of_files = os.listdir(DATA_RAW)\n",
    "size = len([file for file in list_of_files if f'transfer_data_' in file])\n",
    "with open(os.path.join(DATA_RAW, f'transfer_data_{size+1}.json'), 'w') as json_file:\n",
    "    json.dump(data, json_file, indent=4)"
   ]
  },
  {
   "cell_type": "code",
   "execution_count": 20,
   "metadata": {},
   "outputs": [],
   "source": [
    "size = 1"
   ]
  },
  {
   "cell_type": "code",
   "execution_count": 21,
   "metadata": {},
   "outputs": [],
   "source": [
    "def load_json(filename):\n",
    "    try:\n",
    "        with open(filename, 'r') as file:\n",
    "            data = json.load(file)\n",
    "        return data\n",
    "    except FileNotFoundError:\n",
    "        print(f\"{filename} not found.\")\n",
    "        return None\n",
    "    except json.JSONDecodeError:\n",
    "        print(f\"Error decoding JSON from {filename}.\")\n",
    "        return None\n",
    "\n",
    "data = load_json(os.path.join(DATA_RAW, f\"transfer_data_{size+1}.json\"))"
   ]
  },
  {
   "cell_type": "markdown",
   "metadata": {},
   "source": [
    "## Pre-Processamento"
   ]
  },
  {
   "cell_type": "code",
   "execution_count": 22,
   "metadata": {},
   "outputs": [],
   "source": [
    "transactions_processing = IlluviumTransactionsProcessing(blockchain=blockchain)"
   ]
  },
  {
   "cell_type": "code",
   "execution_count": 23,
   "metadata": {},
   "outputs": [
    {
     "data": {
      "text/plain": [
       "502626"
      ]
     },
     "execution_count": 23,
     "metadata": {},
     "output_type": "execute_result"
    }
   ],
   "source": [
    "data = transactions_processing.remove_duplicates_by_field(field=\"txhash\", data=data)\n",
    "len(data)"
   ]
  },
  {
   "cell_type": "code",
   "execution_count": 24,
   "metadata": {},
   "outputs": [
    {
     "data": {
      "text/plain": [
       "502626"
      ]
     },
     "execution_count": 24,
     "metadata": {},
     "output_type": "execute_result"
    }
   ],
   "source": [
    "data = transactions_processing.create_ilv_value_field(data=data)\n",
    "len(data)"
   ]
  },
  {
   "cell_type": "code",
   "execution_count": 25,
   "metadata": {},
   "outputs": [
    {
     "data": {
      "text/plain": [
       "{'txhash': '0x4b54730b5cfeb4ac62ed5d3f6f91e0fb89b82ce4ae1514adad44af23bc6b6b12',\n",
       " 'blockNumber': 18219663,\n",
       " 'from': '0x9993e1fB39CA76cB537e6a8eD460AB19351bd419',\n",
       " 'to': '0x75e89d5979E4f6Fba9F97c104c2F0AFB3F1dcB88',\n",
       " 'value': 4969214249502901718,\n",
       " 'value_ilv': Decimal('4.969214249502901718')}"
      ]
     },
     "execution_count": 25,
     "metadata": {},
     "output_type": "execute_result"
    }
   ],
   "source": [
    "data[-1]"
   ]
  },
  {
   "cell_type": "code",
   "execution_count": 28,
   "metadata": {},
   "outputs": [],
   "source": [
    "list_of_files = os.listdir(DATA_PROCESSED)\n",
    "size = len([file for file in list_of_files if f'transfer_data_processed_' in file])\n",
    "with open(os.path.join(DATA_PROCESSED, f'transfer_data_processed_{size}.json'), 'w') as json_file:\n",
    "    json.dump(data, json_file, indent=4, default=str)"
   ]
  },
  {
   "cell_type": "markdown",
   "metadata": {},
   "source": [
    "## Desenvolvimento de Features"
   ]
  },
  {
   "cell_type": "code",
   "execution_count": null,
   "metadata": {},
   "outputs": [],
   "source": []
  },
  {
   "cell_type": "markdown",
   "metadata": {},
   "source": [
    "### Total de Moedas Transferidas por Bloco\n",
    "\n",
    "#### - block_total_transfered_strategy\n",
    "\n",
    "Soma dos valores das transações para um bloco específico.\n"
   ]
  },
  {
   "cell_type": "code",
   "execution_count": null,
   "metadata": {},
   "outputs": [],
   "source": []
  },
  {
   "cell_type": "markdown",
   "metadata": {},
   "source": [
    "### Número de Transações por Bloco\n",
    "\n",
    "#### - block_transactions_count_strategy\n",
    "\n",
    "Quantidade de transações que ocorrem em um bloco específico."
   ]
  },
  {
   "cell_type": "code",
   "execution_count": null,
   "metadata": {},
   "outputs": [],
   "source": []
  },
  {
   "cell_type": "markdown",
   "metadata": {},
   "source": [
    "### Transações de Alto Valor (Whales)\n",
    "\n",
    "#### - high_value_transactions_strategy\n",
    "\n",
    "Número ou proporção de transações em um bloco que envolvem uma quantidade significativamente grande de moedas.\n",
    "\n",
    "Para esta feature, consideraremos uma transação de alto valor (whale) aquela que tem um valor acima de um certo limite. Por exemplo, se dissermos que uma transação de 1.000 unidades da moeda é considerada de alto valor, então quaisquer transações com 1.000 unidades ou mais serão classificadas como transações \"whale\"."
   ]
  },
  {
   "cell_type": "code",
   "execution_count": null,
   "metadata": {},
   "outputs": [],
   "source": []
  },
  {
   "cell_type": "markdown",
   "metadata": {},
   "source": [
    "\n",
    "### Distribuição de Tamanho de Transações:\n",
    "\n",
    "#### - transactions_distribuition_size_strategy\n",
    "\n",
    "Histograma ou distribuição percentual das transações por tamanho em um bloco específico.\n",
    "\n",
    "Para essa feature, queremos ter uma ideia da distribuição das transações em categorias de tamanho. Por exemplo, podemos ter categorias como \"pequeno\", \"médio\" e \"grande\" e contar quantas transações se encaixam em cada uma dessas categorias.\n",
    "\n",
    "Vamos supor os seguintes limites para as categorias:\n",
    "\n",
    "Pequeno: <=500\n",
    "Médio: >500 e <=1500\n",
    "Grande: >1500"
   ]
  },
  {
   "cell_type": "code",
   "execution_count": null,
   "metadata": {},
   "outputs": [],
   "source": []
  },
  {
   "cell_type": "markdown",
   "metadata": {},
   "source": [
    "\n",
    "### Carteiras Ativas por Bloco:\n",
    "\n",
    "#### - active_wallets_by_block_strategy\n",
    "\n",
    "Número de carteiras únicas que participaram de transações em um bloco específico."
   ]
  },
  {
   "cell_type": "code",
   "execution_count": null,
   "metadata": {},
   "outputs": [],
   "source": []
  },
  {
   "cell_type": "markdown",
   "metadata": {},
   "source": [
    "### Novas Carteiras por Bloco:\n",
    "\n",
    "#### - new_wallets_by_block_strategy\n",
    "\n",
    "Quantidade de carteiras que aparecem pela primeira vez em um bloco específico, indicando novos participantes entrando no ecossistema."
   ]
  },
  {
   "cell_type": "code",
   "execution_count": null,
   "metadata": {},
   "outputs": [],
   "source": []
  },
  {
   "cell_type": "markdown",
   "metadata": {},
   "source": [
    "### Carteiras de Alto Volume (Top Holders):\n",
    "\n",
    "#### high_volume_wallets_strategy\n",
    "\n",
    "Com base em 'from' e 'to', identifique as carteiras que, ao longo de vários blocos, mantêm ou movimentam os maiores volumes da moeda."
   ]
  },
  {
   "cell_type": "code",
   "execution_count": null,
   "metadata": {},
   "outputs": [],
   "source": []
  },
  {
   "cell_type": "markdown",
   "metadata": {},
   "source": [
    "### Relação Valor/Bloco:\n",
    "\n",
    "#### - ratio_value_block_strategy\n",
    "\n",
    "Uma medida que compara o valor transferido em relação ao número do bloco. Pode indicar se o valor transferido está aumentando ou diminuindo ao longo do tempo."
   ]
  },
  {
   "cell_type": "code",
   "execution_count": null,
   "metadata": {},
   "outputs": [],
   "source": []
  },
  {
   "cell_type": "markdown",
   "metadata": {},
   "source": [
    "### Transações Recorrentes entre Carteiras:\n",
    "\n",
    "#### - Recurrent_wallet_transactions_strategy\n",
    "\n",
    "Identifique pares de carteiras ('from' e 'to') que têm transações recorrentes ao longo de vários blocos."
   ]
  },
  {
   "cell_type": "code",
   "execution_count": null,
   "metadata": {},
   "outputs": [],
   "source": []
  },
  {
   "cell_type": "markdown",
   "metadata": {},
   "source": [
    "### Concentração de Valor:\n",
    "\n",
    "#### value_concentration_strategy\n",
    "\n",
    "Calcule a proporção do valor total transferido que é movimentado pelas top N carteiras (por exemplo, top 100) em vários blocos. Isso pode indicar se a moeda está concentrada entre poucos titulares ou distribuída mais amplamente."
   ]
  },
  {
   "cell_type": "code",
   "execution_count": null,
   "metadata": {},
   "outputs": [],
   "source": []
  },
  {
   "cell_type": "markdown",
   "metadata": {},
   "source": [
    "## CI / CD - Github Actions"
   ]
  },
  {
   "cell_type": "code",
   "execution_count": null,
   "metadata": {},
   "outputs": [],
   "source": []
  },
  {
   "cell_type": "markdown",
   "metadata": {},
   "source": [
    "## MLOPs"
   ]
  },
  {
   "cell_type": "code",
   "execution_count": 1,
   "metadata": {},
   "outputs": [],
   "source": [
    "import os\n",
    "\n",
    "def create_test_files(src_directory, dest_directory):\n",
    "    \"\"\"\n",
    "    Cria arquivos de teste em dest_directory baseado nos arquivos de src_directory.\n",
    "\n",
    "    Args:\n",
    "        src_directory (str): O caminho da pasta de origem.\n",
    "        dest_directory (str): O caminho da pasta de destino.\n",
    "    \"\"\"\n",
    "\n",
    "    # Se a pasta de destino não existir, crie-a\n",
    "    if not os.path.exists(dest_directory):\n",
    "        os.makedirs(dest_directory)\n",
    "\n",
    "    # Listar todos os arquivos na pasta de origem\n",
    "    for filename in os.listdir(src_directory):\n",
    "        # Ignora subdiretórios\n",
    "        if os.path.isfile(os.path.join(src_directory, filename)):\n",
    "            # Divide o nome do arquivo e a extensão\n",
    "            base, ext = os.path.splitext(filename)\n",
    "            # Cria o nome do novo arquivo com \"_test\" antes da extensão\n",
    "            new_filename = f\"{base}_test{ext}\"\n",
    "            new_filepath = os.path.join(dest_directory, new_filename)\n",
    "\n",
    "            # Cria o arquivo na pasta de destino (ele estará vazio)\n",
    "            with open(new_filepath, 'w') as f:\n",
    "                pass\n",
    "\n",
    "# Exemplo de uso:\n",
    "create_test_files('src/features', 'tests/features')\n"
   ]
  },
  {
   "cell_type": "code",
   "execution_count": null,
   "metadata": {},
   "outputs": [],
   "source": []
  }
 ],
 "metadata": {
  "kernelspec": {
   "display_name": ".venv",
   "language": "python",
   "name": "python3"
  },
  "language_info": {
   "codemirror_mode": {
    "name": "ipython",
    "version": 3
   },
   "file_extension": ".py",
   "mimetype": "text/x-python",
   "name": "python",
   "nbconvert_exporter": "python",
   "pygments_lexer": "ipython3",
   "version": "3.9.6"
  },
  "orig_nbformat": 4
 },
 "nbformat": 4,
 "nbformat_minor": 2
}
